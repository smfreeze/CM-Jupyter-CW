{
 "cells": [
  {
   "attachments": {},
   "cell_type": "markdown",
   "metadata": {},
   "source": [
    "Exercise 1:\n",
    "Part (a):\n",
    "\n",
    "Firstly, I multiplied out Matrix A to get:\n",
    "A = (1/b)[[b,1],[-1,1]]\n",
    "A = [[1,1/b],[-1/b,1/b]]\n",
    "I can now plot this into a numpy matrix as shown below:"
   ]
  },
  {
   "cell_type": "code",
   "execution_count": 134,
   "metadata": {},
   "outputs": [],
   "source": [
    "import numpy as np\n",
    "a = 4\n",
    "b = 3\n",
    "A = np.matrix([[1,1/b],[-1/b,1/b]])"
   ]
  },
  {
   "attachments": {},
   "cell_type": "markdown",
   "metadata": {},
   "source": [
    "Now I will import all the parts 1-4 as a list of coordinates as a list of arrays:"
   ]
  },
  {
   "cell_type": "code",
   "execution_count": 135,
   "metadata": {},
   "outputs": [],
   "source": [
    "Part1 = [[a,a],[a,-a],[-a,-a],[-a,a],[a,a]]\n",
    "Part2 = [[1-a,a-1],[-a/4,a-1],[-a/4,a/2],[1-a,a/2],[1-a,a-1]]\n",
    "Part3 = [[a/4,a-1],[a-1,a/2],[a-1,a-1],[a/4,a/2]]\n",
    "Part4 = [[a-1,-a/4],[a-1,-a/2],[1-a,-a/2],[1-a,-a/4]]"
   ]
  },
  {
   "attachments": {},
   "cell_type": "markdown",
   "metadata": {},
   "source": [
    "Next is the function that performs the transformation of points in Parts 1-4 induced by matrix A\n",
    "I do this by using the logic that:\n",
    "[e\n",
    " f]\n",
    "\n",
    "transformed by\n",
    "\n",
    "[a b    \n",
    " c d]\n",
    "\n",
    "is equal to\n",
    "\n",
    "[a*e+b*f\n",
    " c*e+d*f]\n",
    "\n",
    "The function takes in two variables, coordinate, which is the coordinate point you want to apply the transformation on, and the matrix you wish to apply.\n",
    "In the function, I create a new coordinates matrix of dimensions 2x1, I set the first collumn first row to a*e+b*f = matrix[0,0] * coordinate[0] + matrix[0,1] * coordinate[1]\n",
    "and the first collumn second row to c*e+d*f = matrix[1,0] * coordinate[0] + matrix[1,1] * coordinate[1]\n",
    "I then return the new coordinates matrix"
   ]
  },
  {
   "cell_type": "code",
   "execution_count": 136,
   "metadata": {},
   "outputs": [],
   "source": [
    "def transformCoordinate(coordinate, matrix):\n",
    "    newCoordinates = np.zeros((2,1))\n",
    "    newCoordinates[0] = matrix[0,0]*coordinate[0]+matrix[0,1]*coordinate[1]\n",
    "    newCoordinates[1] = matrix[1,0]*coordinate[0]+matrix[1,1]*coordinate[1]\n",
    "    return newCoordinates"
   ]
  },
  {
   "attachments": {},
   "cell_type": "markdown",
   "metadata": {},
   "source": [
    "Exercise 1:\n",
    "Part (b):\n",
    "\n",
    "Using my function, I pass in every coordinate in parts 1-4 and"
   ]
  }
 ],
 "metadata": {
  "kernelspec": {
   "display_name": "Python 3",
   "language": "python",
   "name": "python3"
  },
  "language_info": {
   "codemirror_mode": {
    "name": "ipython",
    "version": 3
   },
   "file_extension": ".py",
   "mimetype": "text/x-python",
   "name": "python",
   "nbconvert_exporter": "python",
   "pygments_lexer": "ipython3",
   "version": "3.10.10"
  },
  "orig_nbformat": 4
 },
 "nbformat": 4,
 "nbformat_minor": 2
}
